{
  "nbformat": 4,
  "nbformat_minor": 0,
  "metadata": {
    "colab": {
      "name": "AI_Project_CNN_ALEXNET_GOOGLE_NET.ipynb",
      "provenance": [],
      "collapsed_sections": []
    },
    "kernelspec": {
      "name": "python3",
      "display_name": "Python 3"
    },
    "language_info": {
      "name": "python"
    }
  },
  "cells": [
    {
      "cell_type": "markdown",
      "source": [
        "**Prayer (Salat) Posture Classification and Analysis Using Convolutional Neural Network (CNN), ALEXNET and GOOGLENET Deep Learning Neural Network**\n",
        "\n",
        "By: \n",
        "\n",
        "**Salman Ahmed Khan (19K-1043)\n",
        "Sadeem Sattar (19K-1102)\n",
        "Abdullah Tilal Khan (19K-1103)** "
      ],
      "metadata": {
        "id": "9CPty11fd9Wz"
      }
    },
    {
      "cell_type": "code",
      "execution_count": 1,
      "metadata": {
        "id": "Ul2FvGkpwsAz"
      },
      "outputs": [],
      "source": [
        "import numpy as np\n",
        "import pandas as pd\n",
        "import tensorflow as tf\n",
        "import os\n",
        "import matplotlib.pyplot as plt\n",
        "\n",
        "# Images Dataset Path\n",
        "posture_types = os.listdir('drive/MyDrive/Salat_Dataset')"
      ]
    },
    {
      "cell_type": "code",
      "source": [
        "posture = []\n",
        "DIR = 'drive/MyDrive/Salat_Dataset'\n",
        "for item in posture_types:\n",
        "  all_posture = os.listdir(DIR + '/' + item)\n",
        "  \n",
        "  # Fetched folders\n",
        "  for p in all_posture:\n",
        "    posture.append((item, str(DIR + '/' + item) + '/' + p))"
      ],
      "metadata": {
        "id": "r6-WYYmixfgH"
      },
      "execution_count": 2,
      "outputs": []
    },
    {
      "cell_type": "code",
      "source": [
        "# Build dataframe\n",
        "posture_df = pd.DataFrame(data=posture, columns=['posture type', 'image'])\n",
        "print(posture_df.head())\n",
        "print(\"Total number of images in the dataset: \", len(posture_df))"
      ],
      "metadata": {
        "colab": {
          "base_uri": "https://localhost:8080/"
        },
        "id": "UfgfVSH-xYOd",
        "outputId": "f4edf45a-0449-414d-ea58-b5c0fe7a257a"
      },
      "execution_count": 4,
      "outputs": [
        {
          "output_type": "stream",
          "name": "stdout",
          "text": [
            "  posture type                                           image\n",
            "0         qiam   drive/MyDrive/Salat_Dataset/qiam/qiam(12).jpg\n",
            "1         qiam  drive/MyDrive/Salat_Dataset/qiam/qiam(240).jpg\n",
            "2         qiam   drive/MyDrive/Salat_Dataset/qiam/qiam(37).jpg\n",
            "3         qiam  drive/MyDrive/Salat_Dataset/qiam/qiam(216).jpg\n",
            "4         qiam   drive/MyDrive/Salat_Dataset/qiam/qiam(84).jpg\n",
            "Total number of images in the dataset:  653\n"
          ]
        }
      ]
    },
    {
      "cell_type": "code",
      "source": [
        "import cv2\n",
        "path = DIR + '/'\n",
        "\n",
        "# Resize the images to 224x224\n",
        "image_size = 224\n",
        "\n",
        "images = []\n",
        "labels = []\n",
        "\n",
        "for i in posture_types:\n",
        "  data_path = path + str(i)\n",
        "  filenmes = [i for i in os.listdir(data_path)]\n",
        "\n",
        "  for f in filenmes:\n",
        "    \n",
        "    img = cv2.imread(data_path + '/' + f)\n",
        "    try:\n",
        "      img = cv2.resize(img, (image_size, image_size))\n",
        "      images.append(img)\n",
        "      labels.append(i)\n",
        "    except:\n",
        "        break\n",
        "\n",
        "images = np.array(images)\n",
        "\n",
        "# Normalization\n",
        "images = images.astype('float32') / 255.0\n",
        "print(images.shape)"
      ],
      "metadata": {
        "colab": {
          "base_uri": "https://localhost:8080/"
        },
        "id": "VCJphlJpx2VB",
        "outputId": "37ce89ac-d988-4a91-93f8-4e3d9c8cf6da"
      },
      "execution_count": 5,
      "outputs": [
        {
          "output_type": "stream",
          "name": "stdout",
          "text": [
            "(653, 224, 224, 3)\n"
          ]
        }
      ]
    },
    {
      "cell_type": "code",
      "source": [
        "from sklearn.preprocessing import LabelEncoder, OneHotEncoder\n",
        "from sklearn.compose import ColumnTransformer\n",
        "\n",
        "y = posture_df['posture type'].values\n",
        "\n",
        "print(y.shape)\n",
        "\n",
        "# Label Encoding on Labels\n",
        "y_labelencoder = LabelEncoder()\n",
        "y = y_labelencoder.fit_transform(y)\n",
        "\n",
        "# Reshape\n",
        "y = y.reshape(-1,1)\n",
        "\n",
        "# One-Hot-Encoder on Labels\n",
        "onehotencoder = ColumnTransformer([('my_ohe', OneHotEncoder(), [0])], remainder='passthrough')\n",
        "Y = onehotencoder.fit_transform(y)\n",
        "print(Y)\n",
        "print(images.shape)"
      ],
      "metadata": {
        "colab": {
          "base_uri": "https://localhost:8080/"
        },
        "id": "1Ucy63eYyJuQ",
        "outputId": "cf637b13-e151-4682-f8a4-a963f791a91e"
      },
      "execution_count": 6,
      "outputs": [
        {
          "output_type": "stream",
          "name": "stdout",
          "text": [
            "(653,)\n",
            "[[1. 0. 0.]\n",
            " [1. 0. 0.]\n",
            " [1. 0. 0.]\n",
            " ...\n",
            " [0. 1. 0.]\n",
            " [0. 1. 0.]\n",
            " [0. 1. 0.]]\n",
            "(653, 224, 224, 3)\n"
          ]
        }
      ]
    },
    {
      "cell_type": "markdown",
      "source": [
        "Train and Test DataSet"
      ],
      "metadata": {
        "id": "4-CzSwpbylDP"
      }
    },
    {
      "cell_type": "code",
      "source": [
        "from sklearn.utils import shuffle\n",
        "from sklearn.model_selection import train_test_split\n",
        "\n",
        "# Shuffle images and labels\n",
        "images, Y = shuffle(images, Y, random_state=1)\n",
        "\n",
        "# Generate train and test dataset 70-30 ratio\n",
        "train_x, test_x, train_y, test_y = train_test_split(images, Y, test_size=0.3, random_state=415)\n",
        "\n",
        "#inspect the shape of the training and testing\n",
        "print(train_x.shape)\n",
        "print(train_y.shape)\n",
        "print(test_x.shape)\n",
        "print(test_y.shape)"
      ],
      "metadata": {
        "colab": {
          "base_uri": "https://localhost:8080/"
        },
        "id": "8pR5v3DHyhuC",
        "outputId": "bf37e7db-7db2-4c11-d5d0-44567c32f4d2"
      },
      "execution_count": 7,
      "outputs": [
        {
          "output_type": "stream",
          "name": "stdout",
          "text": [
            "(457, 224, 224, 3)\n",
            "(457, 3)\n",
            "(196, 224, 224, 3)\n",
            "(196, 3)\n"
          ]
        }
      ]
    },
    {
      "cell_type": "code",
      "source": [
        "import tensorflow as tf\n",
        "\n",
        "train_x = np.array(train_x).reshape(-1, 224, 224, 3)\n",
        "\n",
        "test_x = np.array(test_x).reshape(-1, 224, 224, 3)"
      ],
      "metadata": {
        "id": "I8-MRfe1530u"
      },
      "execution_count": 8,
      "outputs": []
    },
    {
      "cell_type": "markdown",
      "source": [
        "**Convolutional Neural Network**"
      ],
      "metadata": {
        "id": "kj1ya6Ley5En"
      }
    },
    {
      "cell_type": "code",
      "source": [
        "import tensorflow as tf\n",
        "\n",
        "model_1 = tf.keras.models.Sequential([\n",
        "                                    tf.keras.layers.Conv2D(128,(3,3),activation = 'relu', input_shape=(224,224,3)),\n",
        "                                    tf.keras.layers.MaxPool2D(2,2),\n",
        "                                    #####################################\n",
        "                                    tf.keras.layers.Conv2D(64,(3,3),activation = 'relu'),\n",
        "                                    tf.keras.layers.MaxPool2D(2,2),\n",
        "                                    #####################################\n",
        "                                    tf.keras.layers.Flatten(),\n",
        "                                    #####################################\n",
        "                                    tf.keras.layers.Dense(512, activation = 'relu'),\n",
        "                                    #####################################\n",
        "                                    tf.keras.layers.Dense(10, activation = 'relu'),\n",
        "                                    #####################################\n",
        "                                    tf.keras.layers.Dense(3, activation = 'softmax')\n",
        "                                  ])\n",
        "opt = tf.keras.optimizers.Adam(learning_rate=0.0001)\n",
        "model_1.compile(optimizer= opt, loss='categorical_crossentropy',metrics=['accuracy'])"
      ],
      "metadata": {
        "id": "OImT5YuKy9q8"
      },
      "execution_count": 9,
      "outputs": []
    },
    {
      "cell_type": "markdown",
      "source": [
        "Training Model"
      ],
      "metadata": {
        "id": "AaYWJT0k6EIq"
      }
    },
    {
      "cell_type": "code",
      "source": [
        "history_CNN = model_1.fit(x=train_x, y=train_y, batch_size=16, epochs=50,validation_split=0.1, shuffle=True)"
      ],
      "metadata": {
        "colab": {
          "base_uri": "https://localhost:8080/"
        },
        "id": "WATNNfHX6Fsn",
        "outputId": "4b90e44f-797f-499e-b7b9-d4a4aa09e14f"
      },
      "execution_count": 10,
      "outputs": [
        {
          "output_type": "stream",
          "name": "stdout",
          "text": [
            "Epoch 1/50\n",
            "26/26 [==============================] - 93s 4s/step - loss: 0.9313 - accuracy: 0.5547 - val_loss: 0.7042 - val_accuracy: 0.7826\n",
            "Epoch 2/50\n",
            "26/26 [==============================] - 91s 4s/step - loss: 0.6290 - accuracy: 0.7470 - val_loss: 0.4766 - val_accuracy: 0.8043\n",
            "Epoch 3/50\n",
            "26/26 [==============================] - 91s 4s/step - loss: 0.4794 - accuracy: 0.7810 - val_loss: 0.4208 - val_accuracy: 0.8478\n",
            "Epoch 4/50\n",
            "26/26 [==============================] - 92s 4s/step - loss: 0.3063 - accuracy: 0.9002 - val_loss: 0.3819 - val_accuracy: 0.8478\n",
            "Epoch 5/50\n",
            "26/26 [==============================] - 92s 4s/step - loss: 0.1341 - accuracy: 0.9659 - val_loss: 0.2326 - val_accuracy: 0.9130\n",
            "Epoch 6/50\n",
            "26/26 [==============================] - 92s 4s/step - loss: 0.0594 - accuracy: 0.9854 - val_loss: 0.3883 - val_accuracy: 0.8913\n",
            "Epoch 7/50\n",
            "26/26 [==============================] - 92s 4s/step - loss: 0.0687 - accuracy: 0.9708 - val_loss: 0.3687 - val_accuracy: 0.8913\n",
            "Epoch 8/50\n",
            "26/26 [==============================] - 92s 4s/step - loss: 0.0293 - accuracy: 0.9878 - val_loss: 0.2932 - val_accuracy: 0.9130\n",
            "Epoch 9/50\n",
            "26/26 [==============================] - 92s 4s/step - loss: 0.0180 - accuracy: 0.9927 - val_loss: 0.2922 - val_accuracy: 0.9130\n",
            "Epoch 10/50\n",
            "26/26 [==============================] - 93s 4s/step - loss: 0.0130 - accuracy: 0.9927 - val_loss: 0.3267 - val_accuracy: 0.9130\n",
            "Epoch 11/50\n",
            "26/26 [==============================] - 93s 4s/step - loss: 0.0108 - accuracy: 0.9927 - val_loss: 0.3551 - val_accuracy: 0.9130\n",
            "Epoch 12/50\n",
            "26/26 [==============================] - 93s 4s/step - loss: 0.0109 - accuracy: 0.9927 - val_loss: 0.4291 - val_accuracy: 0.8478\n",
            "Epoch 13/50\n",
            "26/26 [==============================] - 93s 4s/step - loss: 0.0103 - accuracy: 0.9927 - val_loss: 0.3648 - val_accuracy: 0.9130\n",
            "Epoch 14/50\n",
            "26/26 [==============================] - 93s 4s/step - loss: 0.0095 - accuracy: 0.9927 - val_loss: 0.3783 - val_accuracy: 0.9130\n",
            "Epoch 15/50\n",
            "26/26 [==============================] - 93s 4s/step - loss: 0.0091 - accuracy: 0.9927 - val_loss: 0.3999 - val_accuracy: 0.9130\n",
            "Epoch 16/50\n",
            "26/26 [==============================] - 93s 4s/step - loss: 0.0090 - accuracy: 0.9927 - val_loss: 0.3669 - val_accuracy: 0.9130\n",
            "Epoch 17/50\n",
            "26/26 [==============================] - 93s 4s/step - loss: 0.0089 - accuracy: 0.9927 - val_loss: 0.3915 - val_accuracy: 0.9130\n",
            "Epoch 18/50\n",
            "26/26 [==============================] - 93s 4s/step - loss: 0.0097 - accuracy: 0.9951 - val_loss: 0.3431 - val_accuracy: 0.9130\n",
            "Epoch 19/50\n",
            "26/26 [==============================] - 93s 4s/step - loss: 0.0072 - accuracy: 1.0000 - val_loss: 0.4127 - val_accuracy: 0.9130\n",
            "Epoch 20/50\n",
            "26/26 [==============================] - 93s 4s/step - loss: 0.0030 - accuracy: 1.0000 - val_loss: 0.4287 - val_accuracy: 0.9130\n",
            "Epoch 21/50\n",
            "26/26 [==============================] - 93s 4s/step - loss: 0.0023 - accuracy: 1.0000 - val_loss: 0.4374 - val_accuracy: 0.9130\n",
            "Epoch 22/50\n",
            "26/26 [==============================] - 93s 4s/step - loss: 0.0018 - accuracy: 1.0000 - val_loss: 0.4431 - val_accuracy: 0.9130\n",
            "Epoch 23/50\n",
            "26/26 [==============================] - 93s 4s/step - loss: 0.0015 - accuracy: 1.0000 - val_loss: 0.4688 - val_accuracy: 0.9130\n",
            "Epoch 24/50\n",
            "26/26 [==============================] - 93s 4s/step - loss: 0.0012 - accuracy: 1.0000 - val_loss: 0.4624 - val_accuracy: 0.9130\n",
            "Epoch 25/50\n",
            "26/26 [==============================] - 93s 4s/step - loss: 0.0010 - accuracy: 1.0000 - val_loss: 0.4552 - val_accuracy: 0.9130\n",
            "Epoch 26/50\n",
            "26/26 [==============================] - 93s 4s/step - loss: 8.8299e-04 - accuracy: 1.0000 - val_loss: 0.4847 - val_accuracy: 0.9130\n",
            "Epoch 27/50\n",
            "26/26 [==============================] - 93s 4s/step - loss: 7.9100e-04 - accuracy: 1.0000 - val_loss: 0.4661 - val_accuracy: 0.9130\n",
            "Epoch 28/50\n",
            "26/26 [==============================] - 93s 4s/step - loss: 7.1118e-04 - accuracy: 1.0000 - val_loss: 0.4740 - val_accuracy: 0.9130\n",
            "Epoch 29/50\n",
            "26/26 [==============================] - 93s 4s/step - loss: 6.2966e-04 - accuracy: 1.0000 - val_loss: 0.4800 - val_accuracy: 0.9130\n",
            "Epoch 30/50\n",
            "26/26 [==============================] - 93s 4s/step - loss: 5.6526e-04 - accuracy: 1.0000 - val_loss: 0.4882 - val_accuracy: 0.9130\n",
            "Epoch 31/50\n",
            "26/26 [==============================] - 93s 4s/step - loss: 5.0630e-04 - accuracy: 1.0000 - val_loss: 0.4802 - val_accuracy: 0.9130\n",
            "Epoch 32/50\n",
            "26/26 [==============================] - 92s 4s/step - loss: 4.7833e-04 - accuracy: 1.0000 - val_loss: 0.4826 - val_accuracy: 0.9130\n",
            "Epoch 33/50\n",
            "26/26 [==============================] - 93s 4s/step - loss: 4.2023e-04 - accuracy: 1.0000 - val_loss: 0.5010 - val_accuracy: 0.9130\n",
            "Epoch 34/50\n",
            "26/26 [==============================] - 92s 4s/step - loss: 3.9386e-04 - accuracy: 1.0000 - val_loss: 0.4863 - val_accuracy: 0.9130\n",
            "Epoch 35/50\n",
            "26/26 [==============================] - 92s 4s/step - loss: 3.5598e-04 - accuracy: 1.0000 - val_loss: 0.4792 - val_accuracy: 0.9130\n",
            "Epoch 36/50\n",
            "26/26 [==============================] - 92s 4s/step - loss: 3.3748e-04 - accuracy: 1.0000 - val_loss: 0.4937 - val_accuracy: 0.9130\n",
            "Epoch 37/50\n",
            "26/26 [==============================] - 92s 4s/step - loss: 3.0620e-04 - accuracy: 1.0000 - val_loss: 0.4989 - val_accuracy: 0.9130\n",
            "Epoch 38/50\n",
            "26/26 [==============================] - 93s 4s/step - loss: 2.8235e-04 - accuracy: 1.0000 - val_loss: 0.5008 - val_accuracy: 0.9130\n",
            "Epoch 39/50\n",
            "26/26 [==============================] - 93s 4s/step - loss: 2.6485e-04 - accuracy: 1.0000 - val_loss: 0.4998 - val_accuracy: 0.9130\n",
            "Epoch 40/50\n",
            "26/26 [==============================] - 92s 4s/step - loss: 2.4837e-04 - accuracy: 1.0000 - val_loss: 0.5045 - val_accuracy: 0.9130\n",
            "Epoch 41/50\n",
            "26/26 [==============================] - 93s 4s/step - loss: 2.3050e-04 - accuracy: 1.0000 - val_loss: 0.5062 - val_accuracy: 0.9130\n",
            "Epoch 42/50\n",
            "26/26 [==============================] - 92s 4s/step - loss: 2.1834e-04 - accuracy: 1.0000 - val_loss: 0.5035 - val_accuracy: 0.9130\n",
            "Epoch 43/50\n",
            "26/26 [==============================] - 92s 4s/step - loss: 2.0236e-04 - accuracy: 1.0000 - val_loss: 0.5081 - val_accuracy: 0.9130\n",
            "Epoch 44/50\n",
            "26/26 [==============================] - 93s 4s/step - loss: 1.9183e-04 - accuracy: 1.0000 - val_loss: 0.5116 - val_accuracy: 0.9130\n",
            "Epoch 45/50\n",
            "26/26 [==============================] - 93s 4s/step - loss: 1.8168e-04 - accuracy: 1.0000 - val_loss: 0.5193 - val_accuracy: 0.9130\n",
            "Epoch 46/50\n",
            "26/26 [==============================] - 93s 4s/step - loss: 1.7287e-04 - accuracy: 1.0000 - val_loss: 0.5196 - val_accuracy: 0.9130\n",
            "Epoch 47/50\n",
            "26/26 [==============================] - 93s 4s/step - loss: 1.6027e-04 - accuracy: 1.0000 - val_loss: 0.5086 - val_accuracy: 0.9130\n",
            "Epoch 48/50\n",
            "26/26 [==============================] - 93s 4s/step - loss: 1.5234e-04 - accuracy: 1.0000 - val_loss: 0.5181 - val_accuracy: 0.9130\n",
            "Epoch 49/50\n",
            "26/26 [==============================] - 93s 4s/step - loss: 1.4616e-04 - accuracy: 1.0000 - val_loss: 0.5171 - val_accuracy: 0.9130\n",
            "Epoch 50/50\n",
            "26/26 [==============================] - 93s 4s/step - loss: 1.4135e-04 - accuracy: 1.0000 - val_loss: 0.5401 - val_accuracy: 0.9130\n"
          ]
        }
      ]
    },
    {
      "cell_type": "markdown",
      "source": [
        "Saving Model CNN"
      ],
      "metadata": {
        "id": "F_i6bP7p6noA"
      }
    },
    {
      "cell_type": "code",
      "source": [
        "model_1.save('drive/MyDrive/cnn_model.h5') "
      ],
      "metadata": {
        "id": "Sejpuk-b6tWa"
      },
      "execution_count": 12,
      "outputs": []
    },
    {
      "cell_type": "markdown",
      "source": [
        "Reteriving Model CNN"
      ],
      "metadata": {
        "id": "hPNRRvsS7Dwc"
      }
    },
    {
      "cell_type": "code",
      "source": [
        "import tensorflow as tf\n",
        "CNN_Model_Load = tf.keras.models.load_model('drive/MyDrive/cnn_model.h5')\n",
        "CNN_Model_Load.summary()"
      ],
      "metadata": {
        "id": "QkajmRIV7Fuz"
      },
      "execution_count": null,
      "outputs": []
    },
    {
      "cell_type": "markdown",
      "source": [
        "Evaluating Model"
      ],
      "metadata": {
        "id": "X4C5338m7fDD"
      }
    },
    {
      "cell_type": "code",
      "source": [
        "# Evaluate the model on the test data using `evaluate`\n",
        "test_x = np.array(test_x).reshape(-1, 224, 224, 3)\n",
        "print(test_x.shape, test_y.shape)\n",
        "print(\"CNN_Evaluate on test data\")\n",
        "\n",
        "# CNN Model\n",
        "results = model_1.evaluate(test_x, test_y)\n",
        "\n",
        "print(\"test loss: \", results[0])\n",
        "print(\"test accuracy: \", results[1])"
      ],
      "metadata": {
        "colab": {
          "base_uri": "https://localhost:8080/"
        },
        "id": "1eZvBLSl7dlH",
        "outputId": "1b266820-7d89-4dd4-960a-c6d3a90b7be5"
      },
      "execution_count": 13,
      "outputs": [
        {
          "output_type": "stream",
          "name": "stdout",
          "text": [
            "(196, 224, 224, 3) (196, 3)\n",
            "CNN_Evaluate on test data\n",
            "7/7 [==============================] - 10s 1s/step - loss: 0.5562 - accuracy: 0.9082\n",
            "test loss:  0.5562285780906677\n",
            "test accuracy:  0.9081632494926453\n"
          ]
        }
      ]
    },
    {
      "cell_type": "markdown",
      "source": [
        "**ALEXNET NEURAL NETWORK**"
      ],
      "metadata": {
        "id": "Pcs8aJT58ATO"
      }
    },
    {
      "cell_type": "code",
      "source": [
        "import tensorflow as tf\n",
        "\n",
        "model_2 = tf.keras.models.Sequential([\n",
        "    tf.keras.layers.Conv2D(filters=96, kernel_size=(11,11), strides=(4,4), activation='relu', input_shape=(224,224,3)),\n",
        "    \n",
        "    tf.keras.layers.BatchNormalization(),\n",
        "    \n",
        "    tf.keras.layers.MaxPool2D(pool_size=(3,3), strides=(2,2)),\n",
        "    \n",
        "    tf.keras.layers.Conv2D(filters=256, kernel_size=(5,5), strides=(1,1), activation='relu', padding=\"same\"),\n",
        "    \n",
        "    tf.keras.layers.BatchNormalization(),\n",
        "    \n",
        "    tf.keras.layers.MaxPool2D(pool_size=(3,3), strides=(2,2)),\n",
        "    \n",
        "    tf.keras.layers.Conv2D(filters=384, kernel_size=(3,3), strides=(1,1), activation='relu', padding=\"same\"),\n",
        "    \n",
        "    tf.keras.layers.BatchNormalization(),\n",
        "    \n",
        "    tf.keras.layers.Conv2D(filters=384, kernel_size=(3,3), strides=(1,1), activation='relu', padding=\"same\"),\n",
        "    \n",
        "    tf.keras.layers.BatchNormalization(),\n",
        "    \n",
        "    tf.keras.layers.Conv2D(filters=256, kernel_size=(3,3), strides=(1,1), activation='relu', padding=\"same\"),\n",
        "    \n",
        "    tf.keras.layers.BatchNormalization(),\n",
        "    \n",
        "    tf.keras.layers.MaxPool2D(pool_size=(3,3), strides=(2,2)),\n",
        "    \n",
        "    tf.keras.layers.Flatten(),\n",
        "    \n",
        "    tf.keras.layers.Dense(4096, activation='relu'),\n",
        "    \n",
        "    tf.keras.layers.Dropout(0.5),\n",
        "    \n",
        "    tf.keras.layers.Dense(4096, activation='relu'),\n",
        "    \n",
        "    tf.keras.layers.Dropout(0.5),\n",
        "    \n",
        "    tf.keras.layers.Dense(3, activation='softmax')\n",
        "])\n",
        "\n",
        "opt = tf.keras.optimizers.Adam(learning_rate=0.0001)\n",
        "model_2.compile(optimizer= opt, loss='categorical_crossentropy',metrics=['accuracy'])"
      ],
      "metadata": {
        "id": "-Z51zfL48GSV"
      },
      "execution_count": 16,
      "outputs": []
    },
    {
      "cell_type": "markdown",
      "source": [
        "Training Model"
      ],
      "metadata": {
        "id": "7ZVzqYCJ8XK6"
      }
    },
    {
      "cell_type": "code",
      "source": [
        "history_ALEXNET = model_2.fit(x=train_x, y=train_y, batch_size=16, epochs=50,validation_split=0.1, shuffle=True)"
      ],
      "metadata": {
        "colab": {
          "base_uri": "https://localhost:8080/"
        },
        "id": "UuSf5JD38fpR",
        "outputId": "70522d2e-c710-4941-b41a-537f08386ac9"
      },
      "execution_count": 17,
      "outputs": [
        {
          "output_type": "stream",
          "name": "stdout",
          "text": [
            "Epoch 1/50\n",
            "26/26 [==============================] - 60s 2s/step - loss: 3.4469 - accuracy: 0.5280 - val_loss: 1.0875 - val_accuracy: 0.4130\n",
            "Epoch 2/50\n",
            "26/26 [==============================] - 64s 2s/step - loss: 1.2407 - accuracy: 0.7348 - val_loss: 1.2489 - val_accuracy: 0.2174\n",
            "Epoch 3/50\n",
            "26/26 [==============================] - 70s 3s/step - loss: 0.9680 - accuracy: 0.7835 - val_loss: 1.2626 - val_accuracy: 0.4130\n",
            "Epoch 4/50\n",
            "26/26 [==============================] - 66s 3s/step - loss: 0.6721 - accuracy: 0.8370 - val_loss: 1.5782 - val_accuracy: 0.4130\n",
            "Epoch 5/50\n",
            "26/26 [==============================] - 59s 2s/step - loss: 0.6397 - accuracy: 0.8613 - val_loss: 2.0953 - val_accuracy: 0.4130\n",
            "Epoch 6/50\n",
            "26/26 [==============================] - 69s 3s/step - loss: 0.3305 - accuracy: 0.9100 - val_loss: 3.0024 - val_accuracy: 0.2174\n",
            "Epoch 7/50\n",
            "26/26 [==============================] - 71s 3s/step - loss: 0.6605 - accuracy: 0.8759 - val_loss: 2.3360 - val_accuracy: 0.3913\n",
            "Epoch 8/50\n",
            "26/26 [==============================] - 65s 2s/step - loss: 0.3763 - accuracy: 0.9148 - val_loss: 1.8981 - val_accuracy: 0.3913\n",
            "Epoch 9/50\n",
            "26/26 [==============================] - 60s 2s/step - loss: 0.1545 - accuracy: 0.9586 - val_loss: 10.5790 - val_accuracy: 0.4130\n",
            "Epoch 10/50\n",
            "26/26 [==============================] - 59s 2s/step - loss: 0.2614 - accuracy: 0.9440 - val_loss: 6.4269 - val_accuracy: 0.4130\n",
            "Epoch 11/50\n",
            "26/26 [==============================] - 59s 2s/step - loss: 0.2561 - accuracy: 0.9465 - val_loss: 4.1800 - val_accuracy: 0.4130\n",
            "Epoch 12/50\n",
            "26/26 [==============================] - 59s 2s/step - loss: 0.1523 - accuracy: 0.9684 - val_loss: 6.8495 - val_accuracy: 0.4130\n",
            "Epoch 13/50\n",
            "26/26 [==============================] - 59s 2s/step - loss: 0.0519 - accuracy: 0.9805 - val_loss: 6.4221 - val_accuracy: 0.4130\n",
            "Epoch 14/50\n",
            "26/26 [==============================] - 59s 2s/step - loss: 0.1794 - accuracy: 0.9586 - val_loss: 8.7483 - val_accuracy: 0.4348\n",
            "Epoch 15/50\n",
            "26/26 [==============================] - 59s 2s/step - loss: 0.2786 - accuracy: 0.9416 - val_loss: 5.8418 - val_accuracy: 0.5435\n",
            "Epoch 16/50\n",
            "26/26 [==============================] - 59s 2s/step - loss: 0.2485 - accuracy: 0.9440 - val_loss: 5.0625 - val_accuracy: 0.5217\n",
            "Epoch 17/50\n",
            "26/26 [==============================] - 58s 2s/step - loss: 0.1510 - accuracy: 0.9732 - val_loss: 2.0018 - val_accuracy: 0.7609\n",
            "Epoch 18/50\n",
            "26/26 [==============================] - 57s 2s/step - loss: 0.2196 - accuracy: 0.9708 - val_loss: 2.0527 - val_accuracy: 0.7826\n",
            "Epoch 19/50\n",
            "26/26 [==============================] - 58s 2s/step - loss: 0.1775 - accuracy: 0.9611 - val_loss: 2.4251 - val_accuracy: 0.6957\n",
            "Epoch 20/50\n",
            "26/26 [==============================] - 57s 2s/step - loss: 0.1696 - accuracy: 0.9635 - val_loss: 2.7227 - val_accuracy: 0.8043\n",
            "Epoch 21/50\n",
            "26/26 [==============================] - 57s 2s/step - loss: 0.0811 - accuracy: 0.9781 - val_loss: 2.1530 - val_accuracy: 0.8043\n",
            "Epoch 22/50\n",
            "26/26 [==============================] - 63s 2s/step - loss: 0.0935 - accuracy: 0.9732 - val_loss: 2.3237 - val_accuracy: 0.8261\n",
            "Epoch 23/50\n",
            "26/26 [==============================] - 57s 2s/step - loss: 0.1316 - accuracy: 0.9732 - val_loss: 3.1521 - val_accuracy: 0.8478\n",
            "Epoch 24/50\n",
            "26/26 [==============================] - 71s 3s/step - loss: 0.1243 - accuracy: 0.9781 - val_loss: 2.6024 - val_accuracy: 0.8043\n",
            "Epoch 25/50\n",
            "26/26 [==============================] - 58s 2s/step - loss: 0.2098 - accuracy: 0.9732 - val_loss: 4.5416 - val_accuracy: 0.6957\n",
            "Epoch 26/50\n",
            "26/26 [==============================] - 58s 2s/step - loss: 0.3095 - accuracy: 0.9635 - val_loss: 3.4953 - val_accuracy: 0.8696\n",
            "Epoch 27/50\n",
            "26/26 [==============================] - 57s 2s/step - loss: 0.3113 - accuracy: 0.9586 - val_loss: 2.3812 - val_accuracy: 0.8696\n",
            "Epoch 28/50\n",
            "26/26 [==============================] - 58s 2s/step - loss: 0.0806 - accuracy: 0.9757 - val_loss: 4.1094 - val_accuracy: 0.8478\n",
            "Epoch 29/50\n",
            "26/26 [==============================] - 57s 2s/step - loss: 0.1087 - accuracy: 0.9830 - val_loss: 2.1179 - val_accuracy: 0.8913\n",
            "Epoch 30/50\n",
            "26/26 [==============================] - 57s 2s/step - loss: 0.1007 - accuracy: 0.9830 - val_loss: 4.6160 - val_accuracy: 0.8478\n",
            "Epoch 31/50\n",
            "26/26 [==============================] - 57s 2s/step - loss: 0.1181 - accuracy: 0.9757 - val_loss: 3.5225 - val_accuracy: 0.8696\n",
            "Epoch 32/50\n",
            "26/26 [==============================] - 57s 2s/step - loss: 0.0934 - accuracy: 0.9805 - val_loss: 2.7130 - val_accuracy: 0.8913\n",
            "Epoch 33/50\n",
            "26/26 [==============================] - 58s 2s/step - loss: 0.1065 - accuracy: 0.9830 - val_loss: 3.6100 - val_accuracy: 0.8696\n",
            "Epoch 34/50\n",
            "26/26 [==============================] - 57s 2s/step - loss: 0.0211 - accuracy: 0.9903 - val_loss: 3.0414 - val_accuracy: 0.8478\n",
            "Epoch 35/50\n",
            "26/26 [==============================] - 57s 2s/step - loss: 0.1104 - accuracy: 0.9854 - val_loss: 3.6318 - val_accuracy: 0.8696\n",
            "Epoch 36/50\n",
            "26/26 [==============================] - 57s 2s/step - loss: 0.0266 - accuracy: 0.9927 - val_loss: 2.2659 - val_accuracy: 0.8478\n",
            "Epoch 37/50\n",
            "26/26 [==============================] - 58s 2s/step - loss: 0.1608 - accuracy: 0.9757 - val_loss: 4.0589 - val_accuracy: 0.6957\n",
            "Epoch 38/50\n",
            "26/26 [==============================] - 58s 2s/step - loss: 0.1458 - accuracy: 0.9781 - val_loss: 4.4579 - val_accuracy: 0.7826\n",
            "Epoch 39/50\n",
            "26/26 [==============================] - 60s 2s/step - loss: 0.0821 - accuracy: 0.9830 - val_loss: 4.0647 - val_accuracy: 0.8478\n",
            "Epoch 40/50\n",
            "26/26 [==============================] - 70s 3s/step - loss: 0.0230 - accuracy: 0.9903 - val_loss: 1.9262 - val_accuracy: 0.8696\n",
            "Epoch 41/50\n",
            "26/26 [==============================] - 57s 2s/step - loss: 0.0580 - accuracy: 0.9903 - val_loss: 2.0541 - val_accuracy: 0.8913\n",
            "Epoch 42/50\n",
            "26/26 [==============================] - 58s 2s/step - loss: 0.0365 - accuracy: 0.9878 - val_loss: 1.6728 - val_accuracy: 0.8478\n",
            "Epoch 43/50\n",
            "26/26 [==============================] - 59s 2s/step - loss: 0.0388 - accuracy: 0.9903 - val_loss: 2.6196 - val_accuracy: 0.9130\n",
            "Epoch 44/50\n",
            "26/26 [==============================] - 57s 2s/step - loss: 0.0448 - accuracy: 0.9878 - val_loss: 2.4975 - val_accuracy: 0.7826\n",
            "Epoch 45/50\n",
            "26/26 [==============================] - 57s 2s/step - loss: 0.0651 - accuracy: 0.9878 - val_loss: 7.2039 - val_accuracy: 0.6957\n",
            "Epoch 46/50\n",
            "26/26 [==============================] - 57s 2s/step - loss: 0.2895 - accuracy: 0.9635 - val_loss: 5.9951 - val_accuracy: 0.7826\n",
            "Epoch 47/50\n",
            "26/26 [==============================] - 57s 2s/step - loss: 0.0813 - accuracy: 0.9805 - val_loss: 2.4222 - val_accuracy: 0.8261\n",
            "Epoch 48/50\n",
            "26/26 [==============================] - 57s 2s/step - loss: 0.1033 - accuracy: 0.9805 - val_loss: 3.2689 - val_accuracy: 0.8261\n",
            "Epoch 49/50\n",
            "26/26 [==============================] - 57s 2s/step - loss: 0.2627 - accuracy: 0.9708 - val_loss: 3.9096 - val_accuracy: 0.7609\n",
            "Epoch 50/50\n",
            "26/26 [==============================] - 57s 2s/step - loss: 0.1431 - accuracy: 0.9684 - val_loss: 6.8877 - val_accuracy: 0.8478\n"
          ]
        }
      ]
    },
    {
      "cell_type": "markdown",
      "source": [
        "Saving Model ALEXNET"
      ],
      "metadata": {
        "id": "lXEUkbM98qVu"
      }
    },
    {
      "cell_type": "code",
      "source": [
        "model_2.save('drive/MyDrive/alexnet_model.h5')"
      ],
      "metadata": {
        "id": "r-6oy55d8sLr"
      },
      "execution_count": 18,
      "outputs": []
    },
    {
      "cell_type": "markdown",
      "source": [
        "Reteriving Model ALEXNET"
      ],
      "metadata": {
        "id": "nB2A0hie84Ou"
      }
    },
    {
      "cell_type": "code",
      "source": [
        "import tensorflow as tf\n",
        "ALEXNET_Model_Load = tf.keras.models.load_model('drive/MyDrive/alexnet_model.h5')\n",
        "ALEXNET_Model_Load.summary()"
      ],
      "metadata": {
        "id": "AEmca-g59Cxu"
      },
      "execution_count": null,
      "outputs": []
    },
    {
      "cell_type": "markdown",
      "source": [
        "Evaluating Model ALEXNET"
      ],
      "metadata": {
        "id": "4CfeAmSL9Gd-"
      }
    },
    {
      "cell_type": "code",
      "source": [
        "# Evaluate the model on the test data using `evaluate`\n",
        "test_x = np.array(test_x).reshape(-1, 224, 224, 3)\n",
        "print(test_x.shape, test_y.shape)\n",
        "print(\"ALEXNET_Evaluate on test data\")\n",
        "\n",
        "# ALEXNET Model\n",
        "results = model_2.evaluate(test_x, test_y)\n",
        "\n",
        "print(\"test loss: \", results[0])\n",
        "print(\"test accuracy: \", results[1])"
      ],
      "metadata": {
        "colab": {
          "base_uri": "https://localhost:8080/"
        },
        "id": "P_V-rtiC9LD7",
        "outputId": "c62ff2c6-29e3-48c3-d7c2-cfc1b44a9eec"
      },
      "execution_count": 19,
      "outputs": [
        {
          "output_type": "stream",
          "name": "stdout",
          "text": [
            "(196, 224, 224, 3) (196, 3)\n",
            "ALEXNET_Evaluate on test data\n",
            "7/7 [==============================] - 7s 1s/step - loss: 5.9051 - accuracy: 0.8265\n",
            "test loss:  5.905065536499023\n",
            "test accuracy:  0.8265306353569031\n"
          ]
        }
      ]
    },
    {
      "cell_type": "markdown",
      "source": [
        "**GOOGLENET NEURAL NETWORK**"
      ],
      "metadata": {
        "id": "DQP66-xv9QHk"
      }
    },
    {
      "cell_type": "code",
      "source": [
        "from keras.models import Model\n",
        "from keras.layers import Input, Conv2D, MaxPooling2D, AveragePooling2D, Flatten, GlobalAveragePooling2D, Dense, Dropout\n",
        "from keras.layers.merge import concatenate"
      ],
      "metadata": {
        "id": "0NP8j0-M9T85"
      },
      "execution_count": 20,
      "outputs": []
    },
    {
      "cell_type": "markdown",
      "source": [
        "Inception Block"
      ],
      "metadata": {
        "id": "oznIo4xh9fFW"
      }
    },
    {
      "cell_type": "code",
      "source": [
        "def Inception_block(input_layer, f1, f2_conv1, f2_conv3, f3_conv1, f3_conv5, f4): \n",
        "  # Input: \n",
        "  # - f1: number of filters of the 1x1 convolutional layer in the first path\n",
        "  # - f2_conv1, f2_conv3 are number of filters corresponding to the 1x1 and 3x3 convolutional layers in the second path\n",
        "  # - f3_conv1, f3_conv5 are the number of filters corresponding to the 1x1 and 5x5  convolutional layer in the third path\n",
        "  # - f4: number of filters of the 1x1 convolutional layer in the fourth path\n",
        "\n",
        "  # 1st path:\n",
        "  path1 = Conv2D(filters=f1, kernel_size = (1,1), padding = 'same', activation = 'relu')(input_layer)\n",
        "\n",
        "  # 2nd path\n",
        "  path2 = Conv2D(filters = f2_conv1, kernel_size = (1,1), padding = 'same', activation = 'relu')(input_layer)\n",
        "  path2 = Conv2D(filters = f2_conv3, kernel_size = (3,3), padding = 'same', activation = 'relu')(path2)\n",
        "\n",
        "  # 3rd path\n",
        "  path3 = Conv2D(filters = f3_conv1, kernel_size = (1,1), padding = 'same', activation = 'relu')(input_layer)\n",
        "  path3 = Conv2D(filters = f3_conv5, kernel_size = (5,5), padding = 'same', activation = 'relu')(path3)\n",
        "\n",
        "  # 4th path\n",
        "  path4 = MaxPooling2D((3,3), strides= (1,1), padding = 'same')(input_layer)\n",
        "  path4 = Conv2D(filters = f4, kernel_size = (1,1), padding = 'same', activation = 'relu')(path4)\n",
        "\n",
        "  output_layer = concatenate([path1, path2, path3, path4], axis = -1)\n",
        "\n",
        "  return output_layer"
      ],
      "metadata": {
        "id": "LkLBUlCJ9gg3"
      },
      "execution_count": 21,
      "outputs": []
    },
    {
      "cell_type": "markdown",
      "source": [
        "GOOGLENET ALGORITHM"
      ],
      "metadata": {
        "id": "3k7gATAP9oZ7"
      }
    },
    {
      "cell_type": "code",
      "source": [
        "def GoogLeNet():\n",
        "  # input layer \n",
        "  input_layer = Input(shape = (224, 224, 3))\n",
        "\n",
        "  # convolutional layer: filters = 64, kernel_size = (7,7), strides = 2\n",
        "  X = Conv2D(filters = 64, kernel_size = (7,7), strides = 2, padding = 'valid', activation = 'relu')(input_layer)\n",
        "\n",
        "  # max-pooling layer: pool_size = (3,3), strides = 2\n",
        "  X = MaxPooling2D(pool_size = (3,3), strides = 2)(X)\n",
        "\n",
        "  # convolutional layer: filters = 64, strides = 1\n",
        "  X = Conv2D(filters = 64, kernel_size = (1,1), strides = 1, padding = 'same', activation = 'relu')(X)\n",
        "\n",
        "  # convolutional layer: filters = 192, kernel_size = (3,3)\n",
        "  X = Conv2D(filters = 192, kernel_size = (3,3), padding = 'same', activation = 'relu')(X)\n",
        "\n",
        "  # max-pooling layer: pool_size = (3,3), strides = 2\n",
        "  X = MaxPooling2D(pool_size= (3,3), strides = 2)(X)\n",
        "\n",
        "  # 1st Inception block\n",
        "  X = Inception_block(X, f1 = 64, f2_conv1 = 96, f2_conv3 = 128, f3_conv1 = 16, f3_conv5 = 32, f4 = 32)\n",
        "\n",
        "  # 2nd Inception block\n",
        "  X = Inception_block(X, f1 = 128, f2_conv1 = 128, f2_conv3 = 192, f3_conv1 = 32, f3_conv5 = 96, f4 = 64)\n",
        "\n",
        "  # max-pooling layer: pool_size = (3,3), strides = 2\n",
        "  X = MaxPooling2D(pool_size= (3,3), strides = 2)(X)\n",
        "\n",
        "  # 3rd Inception block\n",
        "  X = Inception_block(X, f1 = 192, f2_conv1 = 96, f2_conv3 = 208, f3_conv1 = 16, f3_conv5 = 48, f4 = 64)\n",
        "\n",
        "  # Extra network 1:\n",
        "  X1 = AveragePooling2D(pool_size = (5,5), strides = 3)(X)\n",
        "  X1 = Conv2D(filters = 128, kernel_size = (1,1), padding = 'same', activation = 'relu')(X1)\n",
        "  X1 = Flatten()(X1)\n",
        "  X1 = Dense(1024, activation = 'relu')(X1)\n",
        "  X1 = Dropout(0.7)(X1)\n",
        "  X1 = Dense(3, activation = 'softmax')(X1)\n",
        "\n",
        "  \n",
        "  # 4th Inception block\n",
        "  X = Inception_block(X, f1 = 160, f2_conv1 = 112, f2_conv3 = 224, f3_conv1 = 24, f3_conv5 = 64, f4 = 64)\n",
        "\n",
        "  # 5th Inception block\n",
        "  X = Inception_block(X, f1 = 128, f2_conv1 = 128, f2_conv3 = 256, f3_conv1 = 24, f3_conv5 = 64, f4 = 64)\n",
        "\n",
        "  # 6th Inception block\n",
        "  X = Inception_block(X, f1 = 112, f2_conv1 = 144, f2_conv3 = 288, f3_conv1 = 32, f3_conv5 = 64, f4 = 64)\n",
        "\n",
        "  # Extra network 2:\n",
        "  X2 = AveragePooling2D(pool_size = (5,5), strides = 3)(X)\n",
        "  X2 = Conv2D(filters = 128, kernel_size = (1,1), padding = 'same', activation = 'relu')(X2)\n",
        "  X2 = Flatten()(X2)\n",
        "  X2 = Dense(1024, activation = 'relu')(X2)\n",
        "  X2 = Dropout(0.7)(X2)\n",
        "  X2 = Dense(3, activation = 'softmax')(X2)\n",
        "  \n",
        "  \n",
        "  # 7th Inception block\n",
        "  X = Inception_block(X, f1 = 256, f2_conv1 = 160, f2_conv3 = 320, f3_conv1 = 32, \n",
        "                      f3_conv5 = 128, f4 = 128)\n",
        "\n",
        "  # max-pooling layer: pool_size = (3,3), strides = 2\n",
        "  X = MaxPooling2D(pool_size = (3,3), strides = 2)(X)\n",
        "\n",
        "  # 8th Inception block\n",
        "  X = Inception_block(X, f1 = 256, f2_conv1 = 160, f2_conv3 = 320, f3_conv1 = 32, f3_conv5 = 128, f4 = 128)\n",
        "\n",
        "  # 9th Inception block\n",
        "  X = Inception_block(X, f1 = 384, f2_conv1 = 192, f2_conv3 = 384, f3_conv1 = 48, f3_conv5 = 128, f4 = 128)\n",
        "\n",
        "  # Global Average pooling layer \n",
        "  X = GlobalAveragePooling2D(name = 'GAPL')(X)\n",
        "\n",
        "  # Dropoutlayer \n",
        "  X = Dropout(0.4)(X)\n",
        "\n",
        "  # output layer \n",
        "  X = Dense(3, activation = 'softmax')(X)\n",
        "  \n",
        "  # model\n",
        "  model = Model(input_layer, [X, X1, X2], name = 'GoogLeNet')\n",
        "\n",
        "  return model"
      ],
      "metadata": {
        "id": "yGwoXEX-9qZp"
      },
      "execution_count": 22,
      "outputs": []
    },
    {
      "cell_type": "markdown",
      "source": [
        "Model Compile"
      ],
      "metadata": {
        "id": "CvBp8TDb904o"
      }
    },
    {
      "cell_type": "code",
      "source": [
        "model_3 = GoogLeNet()\n",
        "\n",
        "opt = tf.keras.optimizers.Adam(learning_rate=0.0001)\n",
        "model_3.compile(optimizer= opt, loss='categorical_crossentropy',metrics=['accuracy'])"
      ],
      "metadata": {
        "id": "NTZAUZhD93nG"
      },
      "execution_count": 23,
      "outputs": []
    },
    {
      "cell_type": "markdown",
      "source": [
        "Training Model GOOGLENET"
      ],
      "metadata": {
        "id": "Zevw2Hv596_S"
      }
    },
    {
      "cell_type": "code",
      "source": [
        "history_GOOGLENET = model_3.fit(x=train_x, y=train_y, batch_size=16, epochs=50,validation_split=0.1, shuffle=True)"
      ],
      "metadata": {
        "colab": {
          "base_uri": "https://localhost:8080/"
        },
        "id": "JMRgLNp799Sg",
        "outputId": "82023043-2a8f-4862-8dab-30110d5a1179"
      },
      "execution_count": 24,
      "outputs": [
        {
          "output_type": "stream",
          "name": "stdout",
          "text": [
            "Epoch 1/50\n",
            "26/26 [==============================] - 90s 3s/step - loss: 3.2353 - dense_16_loss: 1.0814 - dense_13_loss: 1.0755 - dense_15_loss: 1.0784 - dense_16_accuracy: 0.4453 - dense_13_accuracy: 0.4380 - dense_15_accuracy: 0.4428 - val_loss: 3.2928 - val_dense_16_loss: 1.1009 - val_dense_13_loss: 1.0927 - val_dense_15_loss: 1.0992 - val_dense_16_accuracy: 0.3696 - val_dense_13_accuracy: 0.3696 - val_dense_15_accuracy: 0.3696\n",
            "Epoch 2/50\n",
            "26/26 [==============================] - 81s 3s/step - loss: 3.2425 - dense_16_loss: 1.0859 - dense_13_loss: 1.0695 - dense_15_loss: 1.0870 - dense_16_accuracy: 0.4501 - dense_13_accuracy: 0.4599 - dense_15_accuracy: 0.4501 - val_loss: 3.2722 - val_dense_16_loss: 1.0937 - val_dense_13_loss: 1.0856 - val_dense_15_loss: 1.0929 - val_dense_16_accuracy: 0.3696 - val_dense_13_accuracy: 0.3696 - val_dense_15_accuracy: 0.3696\n",
            "Epoch 3/50\n",
            "26/26 [==============================] - 81s 3s/step - loss: 3.2180 - dense_16_loss: 1.0769 - dense_13_loss: 1.0660 - dense_15_loss: 1.0751 - dense_16_accuracy: 0.4501 - dense_13_accuracy: 0.4599 - dense_15_accuracy: 0.4501 - val_loss: 3.2495 - val_dense_16_loss: 1.0881 - val_dense_13_loss: 1.0730 - val_dense_15_loss: 1.0884 - val_dense_16_accuracy: 0.3696 - val_dense_13_accuracy: 0.3696 - val_dense_15_accuracy: 0.3696\n",
            "Epoch 4/50\n",
            "26/26 [==============================] - 81s 3s/step - loss: 3.1219 - dense_16_loss: 1.0444 - dense_13_loss: 1.0353 - dense_15_loss: 1.0423 - dense_16_accuracy: 0.4501 - dense_13_accuracy: 0.4574 - dense_15_accuracy: 0.4501 - val_loss: 3.1173 - val_dense_16_loss: 1.0423 - val_dense_13_loss: 1.0309 - val_dense_15_loss: 1.0441 - val_dense_16_accuracy: 0.3696 - val_dense_13_accuracy: 0.3913 - val_dense_15_accuracy: 0.3696\n",
            "Epoch 5/50\n",
            "26/26 [==============================] - 81s 3s/step - loss: 2.9802 - dense_16_loss: 1.0036 - dense_13_loss: 0.9872 - dense_15_loss: 0.9895 - dense_16_accuracy: 0.4501 - dense_13_accuracy: 0.5255 - dense_15_accuracy: 0.4623 - val_loss: 3.1229 - val_dense_16_loss: 1.0914 - val_dense_13_loss: 0.9713 - val_dense_15_loss: 1.0602 - val_dense_16_accuracy: 0.3696 - val_dense_13_accuracy: 0.4783 - val_dense_15_accuracy: 0.3696\n",
            "Epoch 6/50\n",
            "26/26 [==============================] - 80s 3s/step - loss: 2.8219 - dense_16_loss: 0.9566 - dense_13_loss: 0.9187 - dense_15_loss: 0.9465 - dense_16_accuracy: 0.5231 - dense_13_accuracy: 0.5839 - dense_15_accuracy: 0.5523 - val_loss: 2.9619 - val_dense_16_loss: 1.0233 - val_dense_13_loss: 0.9354 - val_dense_15_loss: 1.0032 - val_dense_16_accuracy: 0.3913 - val_dense_13_accuracy: 0.5000 - val_dense_15_accuracy: 0.4348\n",
            "Epoch 7/50\n",
            "26/26 [==============================] - 81s 3s/step - loss: 2.4837 - dense_16_loss: 0.8538 - dense_13_loss: 0.7940 - dense_15_loss: 0.8359 - dense_16_accuracy: 0.6107 - dense_13_accuracy: 0.6496 - dense_15_accuracy: 0.6229 - val_loss: 1.9710 - val_dense_16_loss: 0.6799 - val_dense_13_loss: 0.6424 - val_dense_15_loss: 0.6487 - val_dense_16_accuracy: 0.7391 - val_dense_13_accuracy: 0.8261 - val_dense_15_accuracy: 0.8043\n",
            "Epoch 8/50\n",
            "26/26 [==============================] - 81s 3s/step - loss: 2.1767 - dense_16_loss: 0.7310 - dense_13_loss: 0.7407 - dense_15_loss: 0.7051 - dense_16_accuracy: 0.6959 - dense_13_accuracy: 0.6740 - dense_15_accuracy: 0.6983 - val_loss: 1.7924 - val_dense_16_loss: 0.6399 - val_dense_13_loss: 0.5748 - val_dense_15_loss: 0.5777 - val_dense_16_accuracy: 0.7174 - val_dense_13_accuracy: 0.7826 - val_dense_15_accuracy: 0.7609\n",
            "Epoch 9/50\n",
            "26/26 [==============================] - 81s 3s/step - loss: 1.9647 - dense_16_loss: 0.6544 - dense_13_loss: 0.6726 - dense_15_loss: 0.6377 - dense_16_accuracy: 0.7105 - dense_13_accuracy: 0.6959 - dense_15_accuracy: 0.7543 - val_loss: 1.8461 - val_dense_16_loss: 0.6226 - val_dense_13_loss: 0.6048 - val_dense_15_loss: 0.6188 - val_dense_16_accuracy: 0.7826 - val_dense_13_accuracy: 0.6522 - val_dense_15_accuracy: 0.7391\n",
            "Epoch 10/50\n",
            "26/26 [==============================] - 81s 3s/step - loss: 1.9265 - dense_16_loss: 0.6281 - dense_13_loss: 0.6709 - dense_15_loss: 0.6275 - dense_16_accuracy: 0.7080 - dense_13_accuracy: 0.7056 - dense_15_accuracy: 0.7105 - val_loss: 1.5840 - val_dense_16_loss: 0.5446 - val_dense_13_loss: 0.5399 - val_dense_15_loss: 0.4995 - val_dense_16_accuracy: 0.7609 - val_dense_13_accuracy: 0.7391 - val_dense_15_accuracy: 0.7609\n",
            "Epoch 11/50\n",
            "26/26 [==============================] - 81s 3s/step - loss: 1.7097 - dense_16_loss: 0.5441 - dense_13_loss: 0.6043 - dense_15_loss: 0.5612 - dense_16_accuracy: 0.7640 - dense_13_accuracy: 0.7445 - dense_15_accuracy: 0.7616 - val_loss: 1.4223 - val_dense_16_loss: 0.4953 - val_dense_13_loss: 0.4678 - val_dense_15_loss: 0.4592 - val_dense_16_accuracy: 0.7826 - val_dense_13_accuracy: 0.7826 - val_dense_15_accuracy: 0.7826\n",
            "Epoch 12/50\n",
            "26/26 [==============================] - 81s 3s/step - loss: 1.5061 - dense_16_loss: 0.4730 - dense_13_loss: 0.5652 - dense_15_loss: 0.4679 - dense_16_accuracy: 0.7762 - dense_13_accuracy: 0.7567 - dense_15_accuracy: 0.8054 - val_loss: 1.6546 - val_dense_16_loss: 0.6734 - val_dense_13_loss: 0.4445 - val_dense_15_loss: 0.5367 - val_dense_16_accuracy: 0.6739 - val_dense_13_accuracy: 0.7391 - val_dense_15_accuracy: 0.7174\n",
            "Epoch 13/50\n",
            "26/26 [==============================] - 81s 3s/step - loss: 1.4308 - dense_16_loss: 0.4435 - dense_13_loss: 0.5475 - dense_15_loss: 0.4398 - dense_16_accuracy: 0.8248 - dense_13_accuracy: 0.7737 - dense_15_accuracy: 0.8248 - val_loss: 1.4109 - val_dense_16_loss: 0.5473 - val_dense_13_loss: 0.3940 - val_dense_15_loss: 0.4695 - val_dense_16_accuracy: 0.8261 - val_dense_13_accuracy: 0.7826 - val_dense_15_accuracy: 0.8043\n",
            "Epoch 14/50\n",
            "26/26 [==============================] - 81s 3s/step - loss: 1.2409 - dense_16_loss: 0.3719 - dense_13_loss: 0.4859 - dense_15_loss: 0.3831 - dense_16_accuracy: 0.8273 - dense_13_accuracy: 0.8029 - dense_15_accuracy: 0.8321 - val_loss: 1.4486 - val_dense_16_loss: 0.5640 - val_dense_13_loss: 0.4104 - val_dense_15_loss: 0.4743 - val_dense_16_accuracy: 0.8043 - val_dense_13_accuracy: 0.8043 - val_dense_15_accuracy: 0.8261\n",
            "Epoch 15/50\n",
            "26/26 [==============================] - 81s 3s/step - loss: 1.0931 - dense_16_loss: 0.3084 - dense_13_loss: 0.4415 - dense_15_loss: 0.3431 - dense_16_accuracy: 0.8662 - dense_13_accuracy: 0.7981 - dense_15_accuracy: 0.8394 - val_loss: 1.4523 - val_dense_16_loss: 0.5804 - val_dense_13_loss: 0.3892 - val_dense_15_loss: 0.4827 - val_dense_16_accuracy: 0.8261 - val_dense_13_accuracy: 0.7826 - val_dense_15_accuracy: 0.7826\n",
            "Epoch 16/50\n",
            "26/26 [==============================] - 81s 3s/step - loss: 1.2439 - dense_16_loss: 0.4051 - dense_13_loss: 0.4729 - dense_15_loss: 0.3660 - dense_16_accuracy: 0.8443 - dense_13_accuracy: 0.8127 - dense_15_accuracy: 0.8418 - val_loss: 1.2901 - val_dense_16_loss: 0.4664 - val_dense_13_loss: 0.3685 - val_dense_15_loss: 0.4552 - val_dense_16_accuracy: 0.7826 - val_dense_13_accuracy: 0.8261 - val_dense_15_accuracy: 0.7826\n",
            "Epoch 17/50\n",
            "26/26 [==============================] - 81s 3s/step - loss: 0.9356 - dense_16_loss: 0.2701 - dense_13_loss: 0.3970 - dense_15_loss: 0.2685 - dense_16_accuracy: 0.8783 - dense_13_accuracy: 0.8345 - dense_15_accuracy: 0.8929 - val_loss: 1.9142 - val_dense_16_loss: 0.7995 - val_dense_13_loss: 0.4395 - val_dense_15_loss: 0.6753 - val_dense_16_accuracy: 0.7826 - val_dense_13_accuracy: 0.8261 - val_dense_15_accuracy: 0.8261\n",
            "Epoch 18/50\n",
            "26/26 [==============================] - 81s 3s/step - loss: 1.0013 - dense_16_loss: 0.3022 - dense_13_loss: 0.3919 - dense_15_loss: 0.3071 - dense_16_accuracy: 0.8589 - dense_13_accuracy: 0.8273 - dense_15_accuracy: 0.8783 - val_loss: 1.4413 - val_dense_16_loss: 0.5955 - val_dense_13_loss: 0.3824 - val_dense_15_loss: 0.4634 - val_dense_16_accuracy: 0.8261 - val_dense_13_accuracy: 0.8261 - val_dense_15_accuracy: 0.8043\n",
            "Epoch 19/50\n",
            "26/26 [==============================] - 81s 3s/step - loss: 0.8861 - dense_16_loss: 0.2486 - dense_13_loss: 0.3933 - dense_15_loss: 0.2441 - dense_16_accuracy: 0.9002 - dense_13_accuracy: 0.8321 - dense_15_accuracy: 0.8929 - val_loss: 1.2892 - val_dense_16_loss: 0.4354 - val_dense_13_loss: 0.4482 - val_dense_15_loss: 0.4056 - val_dense_16_accuracy: 0.8478 - val_dense_13_accuracy: 0.8043 - val_dense_15_accuracy: 0.8478\n",
            "Epoch 20/50\n",
            "26/26 [==============================] - 81s 3s/step - loss: 0.7972 - dense_16_loss: 0.1997 - dense_13_loss: 0.3616 - dense_15_loss: 0.2359 - dense_16_accuracy: 0.9246 - dense_13_accuracy: 0.8613 - dense_15_accuracy: 0.9002 - val_loss: 1.3368 - val_dense_16_loss: 0.5137 - val_dense_13_loss: 0.3613 - val_dense_15_loss: 0.4618 - val_dense_16_accuracy: 0.8261 - val_dense_13_accuracy: 0.7826 - val_dense_15_accuracy: 0.7826\n",
            "Epoch 21/50\n",
            "26/26 [==============================] - 81s 3s/step - loss: 1.0213 - dense_16_loss: 0.3604 - dense_13_loss: 0.3716 - dense_15_loss: 0.2894 - dense_16_accuracy: 0.8418 - dense_13_accuracy: 0.8516 - dense_15_accuracy: 0.8710 - val_loss: 1.5565 - val_dense_16_loss: 0.6002 - val_dense_13_loss: 0.4155 - val_dense_15_loss: 0.5408 - val_dense_16_accuracy: 0.8043 - val_dense_13_accuracy: 0.8261 - val_dense_15_accuracy: 0.7391\n",
            "Epoch 22/50\n",
            "26/26 [==============================] - 81s 3s/step - loss: 0.8262 - dense_16_loss: 0.2647 - dense_13_loss: 0.3234 - dense_15_loss: 0.2381 - dense_16_accuracy: 0.8881 - dense_13_accuracy: 0.8832 - dense_15_accuracy: 0.8929 - val_loss: 1.8296 - val_dense_16_loss: 0.7716 - val_dense_13_loss: 0.4105 - val_dense_15_loss: 0.6474 - val_dense_16_accuracy: 0.8043 - val_dense_13_accuracy: 0.7826 - val_dense_15_accuracy: 0.8043\n",
            "Epoch 23/50\n",
            "26/26 [==============================] - 81s 3s/step - loss: 0.7180 - dense_16_loss: 0.1885 - dense_13_loss: 0.3403 - dense_15_loss: 0.1892 - dense_16_accuracy: 0.9270 - dense_13_accuracy: 0.8540 - dense_15_accuracy: 0.9246 - val_loss: 1.3969 - val_dense_16_loss: 0.4890 - val_dense_13_loss: 0.3530 - val_dense_15_loss: 0.5550 - val_dense_16_accuracy: 0.7826 - val_dense_13_accuracy: 0.8043 - val_dense_15_accuracy: 0.7826\n",
            "Epoch 24/50\n",
            "26/26 [==============================] - 81s 3s/step - loss: 0.6402 - dense_16_loss: 0.1644 - dense_13_loss: 0.2945 - dense_15_loss: 0.1813 - dense_16_accuracy: 0.9319 - dense_13_accuracy: 0.8686 - dense_15_accuracy: 0.9148 - val_loss: 1.4250 - val_dense_16_loss: 0.5740 - val_dense_13_loss: 0.3443 - val_dense_15_loss: 0.5067 - val_dense_16_accuracy: 0.8261 - val_dense_13_accuracy: 0.8043 - val_dense_15_accuracy: 0.8261\n",
            "Epoch 25/50\n",
            "26/26 [==============================] - 81s 3s/step - loss: 0.6136 - dense_16_loss: 0.1644 - dense_13_loss: 0.2891 - dense_15_loss: 0.1601 - dense_16_accuracy: 0.9294 - dense_13_accuracy: 0.8637 - dense_15_accuracy: 0.9440 - val_loss: 1.6087 - val_dense_16_loss: 0.7154 - val_dense_13_loss: 0.3635 - val_dense_15_loss: 0.5298 - val_dense_16_accuracy: 0.7826 - val_dense_13_accuracy: 0.8478 - val_dense_15_accuracy: 0.7826\n",
            "Epoch 26/50\n",
            "26/26 [==============================] - 81s 3s/step - loss: 0.5829 - dense_16_loss: 0.1620 - dense_13_loss: 0.2690 - dense_15_loss: 0.1519 - dense_16_accuracy: 0.9392 - dense_13_accuracy: 0.8978 - dense_15_accuracy: 0.9465 - val_loss: 2.0235 - val_dense_16_loss: 0.8374 - val_dense_13_loss: 0.4491 - val_dense_15_loss: 0.7370 - val_dense_16_accuracy: 0.8261 - val_dense_13_accuracy: 0.8043 - val_dense_15_accuracy: 0.8478\n",
            "Epoch 27/50\n",
            "26/26 [==============================] - 81s 3s/step - loss: 0.4788 - dense_16_loss: 0.1189 - dense_13_loss: 0.2259 - dense_15_loss: 0.1341 - dense_16_accuracy: 0.9562 - dense_13_accuracy: 0.9148 - dense_15_accuracy: 0.9465 - val_loss: 2.1537 - val_dense_16_loss: 0.8813 - val_dense_13_loss: 0.5235 - val_dense_15_loss: 0.7488 - val_dense_16_accuracy: 0.8261 - val_dense_13_accuracy: 0.8478 - val_dense_15_accuracy: 0.8261\n",
            "Epoch 28/50\n",
            "26/26 [==============================] - 82s 3s/step - loss: 0.4630 - dense_16_loss: 0.1096 - dense_13_loss: 0.2249 - dense_15_loss: 0.1285 - dense_16_accuracy: 0.9732 - dense_13_accuracy: 0.9124 - dense_15_accuracy: 0.9367 - val_loss: 1.8724 - val_dense_16_loss: 0.7662 - val_dense_13_loss: 0.4463 - val_dense_15_loss: 0.6600 - val_dense_16_accuracy: 0.8261 - val_dense_13_accuracy: 0.7826 - val_dense_15_accuracy: 0.8261\n",
            "Epoch 29/50\n",
            "26/26 [==============================] - 81s 3s/step - loss: 0.4458 - dense_16_loss: 0.1253 - dense_13_loss: 0.2046 - dense_15_loss: 0.1159 - dense_16_accuracy: 0.9538 - dense_13_accuracy: 0.9124 - dense_15_accuracy: 0.9538 - val_loss: 1.6451 - val_dense_16_loss: 0.6690 - val_dense_13_loss: 0.4182 - val_dense_15_loss: 0.5579 - val_dense_16_accuracy: 0.8696 - val_dense_13_accuracy: 0.8043 - val_dense_15_accuracy: 0.8696\n",
            "Epoch 30/50\n",
            "26/26 [==============================] - 81s 3s/step - loss: 0.9627 - dense_16_loss: 0.3186 - dense_13_loss: 0.3695 - dense_15_loss: 0.2747 - dense_16_accuracy: 0.8978 - dense_13_accuracy: 0.8637 - dense_15_accuracy: 0.9027 - val_loss: 2.1701 - val_dense_16_loss: 0.5264 - val_dense_13_loss: 0.7436 - val_dense_15_loss: 0.9001 - val_dense_16_accuracy: 0.7391 - val_dense_13_accuracy: 0.6957 - val_dense_15_accuracy: 0.7391\n",
            "Epoch 31/50\n",
            "26/26 [==============================] - 81s 3s/step - loss: 0.7852 - dense_16_loss: 0.2582 - dense_13_loss: 0.3047 - dense_15_loss: 0.2222 - dense_16_accuracy: 0.9221 - dense_13_accuracy: 0.8808 - dense_15_accuracy: 0.9319 - val_loss: 1.6890 - val_dense_16_loss: 0.6024 - val_dense_13_loss: 0.4353 - val_dense_15_loss: 0.6512 - val_dense_16_accuracy: 0.8261 - val_dense_13_accuracy: 0.7826 - val_dense_15_accuracy: 0.8261\n",
            "Epoch 32/50\n",
            "26/26 [==============================] - 81s 3s/step - loss: 0.4743 - dense_16_loss: 0.1235 - dense_13_loss: 0.2254 - dense_15_loss: 0.1254 - dense_16_accuracy: 0.9708 - dense_13_accuracy: 0.9246 - dense_15_accuracy: 0.9538 - val_loss: 1.7644 - val_dense_16_loss: 0.7224 - val_dense_13_loss: 0.3964 - val_dense_15_loss: 0.6457 - val_dense_16_accuracy: 0.8696 - val_dense_13_accuracy: 0.7826 - val_dense_15_accuracy: 0.8261\n",
            "Epoch 33/50\n",
            "26/26 [==============================] - 81s 3s/step - loss: 0.3419 - dense_16_loss: 0.1006 - dense_13_loss: 0.1667 - dense_15_loss: 0.0746 - dense_16_accuracy: 0.9562 - dense_13_accuracy: 0.9465 - dense_15_accuracy: 0.9805 - val_loss: 2.3369 - val_dense_16_loss: 0.9197 - val_dense_13_loss: 0.5469 - val_dense_15_loss: 0.8704 - val_dense_16_accuracy: 0.8696 - val_dense_13_accuracy: 0.7826 - val_dense_15_accuracy: 0.8261\n",
            "Epoch 34/50\n",
            "26/26 [==============================] - 81s 3s/step - loss: 0.2773 - dense_16_loss: 0.0624 - dense_13_loss: 0.1580 - dense_15_loss: 0.0568 - dense_16_accuracy: 0.9781 - dense_13_accuracy: 0.9392 - dense_15_accuracy: 0.9805 - val_loss: 1.8421 - val_dense_16_loss: 0.6726 - val_dense_13_loss: 0.4530 - val_dense_15_loss: 0.7166 - val_dense_16_accuracy: 0.8478 - val_dense_13_accuracy: 0.7826 - val_dense_15_accuracy: 0.8478\n",
            "Epoch 35/50\n",
            "26/26 [==============================] - 81s 3s/step - loss: 0.2278 - dense_16_loss: 0.0474 - dense_13_loss: 0.1301 - dense_15_loss: 0.0503 - dense_16_accuracy: 0.9854 - dense_13_accuracy: 0.9611 - dense_15_accuracy: 0.9805 - val_loss: 1.9561 - val_dense_16_loss: 0.7566 - val_dense_13_loss: 0.4814 - val_dense_15_loss: 0.7181 - val_dense_16_accuracy: 0.8478 - val_dense_13_accuracy: 0.8261 - val_dense_15_accuracy: 0.8478\n",
            "Epoch 36/50\n",
            "26/26 [==============================] - 81s 3s/step - loss: 0.2064 - dense_16_loss: 0.0347 - dense_13_loss: 0.1362 - dense_15_loss: 0.0355 - dense_16_accuracy: 0.9878 - dense_13_accuracy: 0.9513 - dense_15_accuracy: 0.9951 - val_loss: 2.5721 - val_dense_16_loss: 1.1030 - val_dense_13_loss: 0.5666 - val_dense_15_loss: 0.9025 - val_dense_16_accuracy: 0.8696 - val_dense_13_accuracy: 0.8696 - val_dense_15_accuracy: 0.8478\n",
            "Epoch 37/50\n",
            "26/26 [==============================] - 81s 3s/step - loss: 0.2027 - dense_16_loss: 0.0379 - dense_13_loss: 0.1190 - dense_15_loss: 0.0457 - dense_16_accuracy: 0.9854 - dense_13_accuracy: 0.9465 - dense_15_accuracy: 0.9805 - val_loss: 2.4771 - val_dense_16_loss: 1.0125 - val_dense_13_loss: 0.5838 - val_dense_15_loss: 0.8807 - val_dense_16_accuracy: 0.8478 - val_dense_13_accuracy: 0.8261 - val_dense_15_accuracy: 0.8696\n",
            "Epoch 38/50\n",
            "26/26 [==============================] - 81s 3s/step - loss: 0.1819 - dense_16_loss: 0.0169 - dense_13_loss: 0.1296 - dense_15_loss: 0.0354 - dense_16_accuracy: 0.9903 - dense_13_accuracy: 0.9513 - dense_15_accuracy: 0.9878 - val_loss: 3.1772 - val_dense_16_loss: 1.3902 - val_dense_13_loss: 0.6766 - val_dense_15_loss: 1.1103 - val_dense_16_accuracy: 0.8696 - val_dense_13_accuracy: 0.8261 - val_dense_15_accuracy: 0.8261\n",
            "Epoch 39/50\n",
            "26/26 [==============================] - 81s 3s/step - loss: 0.2024 - dense_16_loss: 0.0227 - dense_13_loss: 0.1551 - dense_15_loss: 0.0246 - dense_16_accuracy: 0.9878 - dense_13_accuracy: 0.9319 - dense_15_accuracy: 0.9927 - val_loss: 2.6554 - val_dense_16_loss: 1.2817 - val_dense_13_loss: 0.4706 - val_dense_15_loss: 0.9031 - val_dense_16_accuracy: 0.8913 - val_dense_13_accuracy: 0.8043 - val_dense_15_accuracy: 0.8913\n",
            "Epoch 40/50\n",
            "26/26 [==============================] - 81s 3s/step - loss: 0.1128 - dense_16_loss: 0.0052 - dense_13_loss: 0.0976 - dense_15_loss: 0.0100 - dense_16_accuracy: 1.0000 - dense_13_accuracy: 0.9635 - dense_15_accuracy: 1.0000 - val_loss: 2.6755 - val_dense_16_loss: 1.3451 - val_dense_13_loss: 0.4477 - val_dense_15_loss: 0.8827 - val_dense_16_accuracy: 0.8913 - val_dense_13_accuracy: 0.8478 - val_dense_15_accuracy: 0.8696\n",
            "Epoch 41/50\n",
            "26/26 [==============================] - 82s 3s/step - loss: 0.0999 - dense_16_loss: 0.0021 - dense_13_loss: 0.0909 - dense_15_loss: 0.0068 - dense_16_accuracy: 1.0000 - dense_13_accuracy: 0.9659 - dense_15_accuracy: 1.0000 - val_loss: 3.3243 - val_dense_16_loss: 1.6373 - val_dense_13_loss: 0.5468 - val_dense_15_loss: 1.1402 - val_dense_16_accuracy: 0.8913 - val_dense_13_accuracy: 0.8261 - val_dense_15_accuracy: 0.8478\n",
            "Epoch 42/50\n",
            "26/26 [==============================] - 82s 3s/step - loss: 0.0876 - dense_16_loss: 0.0121 - dense_13_loss: 0.0628 - dense_15_loss: 0.0127 - dense_16_accuracy: 0.9951 - dense_13_accuracy: 0.9854 - dense_15_accuracy: 0.9976 - val_loss: 3.1643 - val_dense_16_loss: 1.5242 - val_dense_13_loss: 0.5397 - val_dense_15_loss: 1.1004 - val_dense_16_accuracy: 0.8696 - val_dense_13_accuracy: 0.8696 - val_dense_15_accuracy: 0.8478\n",
            "Epoch 43/50\n",
            "26/26 [==============================] - 82s 3s/step - loss: 0.2501 - dense_16_loss: 0.0698 - dense_13_loss: 0.1163 - dense_15_loss: 0.0639 - dense_16_accuracy: 0.9732 - dense_13_accuracy: 0.9538 - dense_15_accuracy: 0.9781 - val_loss: 3.1535 - val_dense_16_loss: 1.5999 - val_dense_13_loss: 0.4984 - val_dense_15_loss: 1.0552 - val_dense_16_accuracy: 0.8261 - val_dense_13_accuracy: 0.8261 - val_dense_15_accuracy: 0.8261\n",
            "Epoch 44/50\n",
            "26/26 [==============================] - 82s 3s/step - loss: 0.2212 - dense_16_loss: 0.0654 - dense_13_loss: 0.1148 - dense_15_loss: 0.0410 - dense_16_accuracy: 0.9757 - dense_13_accuracy: 0.9611 - dense_15_accuracy: 0.9854 - val_loss: 2.6240 - val_dense_16_loss: 1.1846 - val_dense_13_loss: 0.5330 - val_dense_15_loss: 0.9064 - val_dense_16_accuracy: 0.8696 - val_dense_13_accuracy: 0.8478 - val_dense_15_accuracy: 0.8696\n",
            "Epoch 45/50\n",
            "26/26 [==============================] - 83s 3s/step - loss: 0.1419 - dense_16_loss: 0.0195 - dense_13_loss: 0.0995 - dense_15_loss: 0.0230 - dense_16_accuracy: 0.9976 - dense_13_accuracy: 0.9684 - dense_15_accuracy: 0.9927 - val_loss: 2.7151 - val_dense_16_loss: 1.2338 - val_dense_13_loss: 0.4596 - val_dense_15_loss: 1.0217 - val_dense_16_accuracy: 0.8478 - val_dense_13_accuracy: 0.8261 - val_dense_15_accuracy: 0.8478\n",
            "Epoch 46/50\n",
            "26/26 [==============================] - 81s 3s/step - loss: 0.0917 - dense_16_loss: 0.0083 - dense_13_loss: 0.0672 - dense_15_loss: 0.0162 - dense_16_accuracy: 1.0000 - dense_13_accuracy: 0.9878 - dense_15_accuracy: 0.9951 - val_loss: 2.9869 - val_dense_16_loss: 1.3432 - val_dense_13_loss: 0.5846 - val_dense_15_loss: 1.0590 - val_dense_16_accuracy: 0.8696 - val_dense_13_accuracy: 0.8478 - val_dense_15_accuracy: 0.8478\n",
            "Epoch 47/50\n",
            "26/26 [==============================] - 81s 3s/step - loss: 0.1686 - dense_16_loss: 0.0655 - dense_13_loss: 0.0709 - dense_15_loss: 0.0322 - dense_16_accuracy: 0.9854 - dense_13_accuracy: 0.9781 - dense_15_accuracy: 0.9903 - val_loss: 7.1644 - val_dense_16_loss: 3.9437 - val_dense_13_loss: 1.1853 - val_dense_15_loss: 2.0354 - val_dense_16_accuracy: 0.5000 - val_dense_13_accuracy: 0.6739 - val_dense_15_accuracy: 0.5435\n",
            "Epoch 48/50\n",
            "26/26 [==============================] - 81s 3s/step - loss: 0.7530 - dense_16_loss: 0.2862 - dense_13_loss: 0.2265 - dense_15_loss: 0.2403 - dense_16_accuracy: 0.9051 - dense_13_accuracy: 0.9027 - dense_15_accuracy: 0.9221 - val_loss: 1.3211 - val_dense_16_loss: 0.3663 - val_dense_13_loss: 0.4843 - val_dense_15_loss: 0.4705 - val_dense_16_accuracy: 0.8696 - val_dense_13_accuracy: 0.8478 - val_dense_15_accuracy: 0.8043\n",
            "Epoch 49/50\n",
            "26/26 [==============================] - 81s 3s/step - loss: 0.2025 - dense_16_loss: 0.0430 - dense_13_loss: 0.1091 - dense_15_loss: 0.0504 - dense_16_accuracy: 0.9927 - dense_13_accuracy: 0.9635 - dense_15_accuracy: 0.9927 - val_loss: 1.4523 - val_dense_16_loss: 0.4939 - val_dense_13_loss: 0.4286 - val_dense_15_loss: 0.5297 - val_dense_16_accuracy: 0.8696 - val_dense_13_accuracy: 0.8261 - val_dense_15_accuracy: 0.8696\n",
            "Epoch 50/50\n",
            "26/26 [==============================] - 81s 3s/step - loss: 0.1960 - dense_16_loss: 0.0312 - dense_13_loss: 0.1123 - dense_15_loss: 0.0525 - dense_16_accuracy: 0.9903 - dense_13_accuracy: 0.9684 - dense_15_accuracy: 0.9830 - val_loss: 1.5744 - val_dense_16_loss: 0.6183 - val_dense_13_loss: 0.4547 - val_dense_15_loss: 0.5014 - val_dense_16_accuracy: 0.8696 - val_dense_13_accuracy: 0.8261 - val_dense_15_accuracy: 0.8696\n"
          ]
        }
      ]
    },
    {
      "cell_type": "markdown",
      "source": [
        "Saving Model GOOGLENET"
      ],
      "metadata": {
        "id": "BDLEG9Sb-FJs"
      }
    },
    {
      "cell_type": "code",
      "source": [
        "model_3.save('drive/MyDrive/googlenet_model.h5') "
      ],
      "metadata": {
        "id": "PM1A-tH--HfM"
      },
      "execution_count": 25,
      "outputs": []
    },
    {
      "cell_type": "markdown",
      "source": [
        "Reteriving the Model"
      ],
      "metadata": {
        "id": "8YDBRGtp-PlE"
      }
    },
    {
      "cell_type": "code",
      "source": [
        "import tensorflow as tf\n",
        "GOOGLENET_Model_Load = tf.keras.models.load_model('drive/MyDrive/googlenet_model.h5')\n",
        "GOOGLENET_Model_Load.summary()"
      ],
      "metadata": {
        "id": "ZdF1S_kf-WZB"
      },
      "execution_count": null,
      "outputs": []
    },
    {
      "cell_type": "markdown",
      "source": [
        "Evaluating Model GOOGLENET"
      ],
      "metadata": {
        "id": "BY87MZGq-dOu"
      }
    },
    {
      "cell_type": "code",
      "source": [
        "# Evaluate the model on the test data using `evaluate`\n",
        "test_x = np.array(test_x).reshape(-1, 224, 224, 3)\n",
        "print(test_x.shape, test_y.shape)\n",
        "print(\"GOOGLENET_Evaluate on test data\")\n",
        "\n",
        "# GOOGLENET Model\n",
        "results = model_3.evaluate(test_x, test_y)\n",
        "\n",
        "print(\"test loss: \", results[0])\n",
        "print(\"test accuracy: \", results[1])"
      ],
      "metadata": {
        "colab": {
          "base_uri": "https://localhost:8080/"
        },
        "id": "_cyqa11K-fih",
        "outputId": "3a37acb6-b528-4d91-ffc4-360a001540ad"
      },
      "execution_count": 31,
      "outputs": [
        {
          "output_type": "stream",
          "name": "stdout",
          "text": [
            "(196, 224, 224, 3) (196, 3)\n",
            "GOOGLENET_Evaluate on test data\n",
            "7/7 [==============================] - 8s 1s/step - loss: 1.5069 - dense_16_loss: 0.5355 - dense_13_loss: 0.4094 - dense_15_loss: 0.5619 - dense_16_accuracy: 0.8929 - dense_13_accuracy: 0.9031 - dense_15_accuracy: 0.9031\n",
            "test loss:  1.5068894624710083\n",
            "test accuracy:  0.5355218648910522\n"
          ]
        }
      ]
    },
    {
      "cell_type": "markdown",
      "source": [
        "**Plotting The Graph**"
      ],
      "metadata": {
        "id": "Z6gnZdoY-sxG"
      }
    },
    {
      "cell_type": "code",
      "source": [
        "# Plotting Loss\n",
        "plt.plot(history_CNN.history['loss'])\n",
        "plt.plot(history_ALEXNET.history['loss'])\n",
        "plt.plot(history_GOOGLENET.history['loss'])\n",
        "\n",
        "# Plotting Accuracy\n",
        "plt.plot(history_CNN.history['accuracy'])\n",
        "plt.plot(history_ALEXNET.history['accuracy'])\n",
        "plt.plot(history_GOOGLENET.history['dense_13_accuracy'])\n",
        "\n",
        "# Legend\n",
        "plt.legend(['CNN_loss', 'ALEXNET_loss', 'GOOGLENET_loss', 'CNN_accuracy', 'ALEXNET_accuracy', 'GOOGLENET_accuracy'])\n"
      ],
      "metadata": {
        "colab": {
          "base_uri": "https://localhost:8080/",
          "height": 283
        },
        "id": "YGYnEjhT-wNl",
        "outputId": "4c9e5cdd-acf4-47aa-ea29-1db56449bc9f"
      },
      "execution_count": 28,
      "outputs": [
        {
          "output_type": "execute_result",
          "data": {
            "text/plain": [
              "<matplotlib.legend.Legend at 0x7f0938dcb790>"
            ]
          },
          "metadata": {},
          "execution_count": 28
        },
        {
          "output_type": "display_data",
          "data": {
            "text/plain": [
              "<Figure size 432x288 with 1 Axes>"
            ],
            "image/png": "[encoded data removed]"
          },
          "metadata": {
            "needs_background": "light"
          }
        }
      ]
    },
    {
      "cell_type": "markdown",
      "source": [
        "**PREDICTION**"
      ],
      "metadata": {
        "id": "223AReRpVI0j"
      }
    },
    {
      "cell_type": "code",
      "source": [
        "# CNN Prediction\n",
        "CNN_pred = model_1.predict(test_x) \n",
        "\n",
        "CNN_pred = np.argmax(CNN_pred, axis = 1) \n",
        "label = np.argmax(test_y,axis = 1) \n",
        "print(\"CNN Model Prediction\\n\")\n",
        "print(CNN_pred) \n",
        "print(label)\n",
        "\n",
        "# ALEXNET Prediction\n",
        "ALEXNET_pred = model_2.predict(test_x) \n",
        "\n",
        "ALEXNET_pred = np.argmax(ALEXNET_pred, axis = 1) \n",
        "label = np.argmax(test_y,axis = 1) \n",
        "print(\"\\nALEXNET Model Prediction\\n\")\n",
        "print(ALEXNET_pred) \n",
        "print(label)\n",
        "\n",
        "# GOOGLENET Prediction\n",
        "GOOGLENET_pred = model_3.predict(test_x) \n",
        "\n",
        "GOOGLENET_pred = np.argmax(GOOGLENET_pred, axis = 1) \n",
        "label = np.argmax(test_y,axis = 1) \n",
        "print(\"\\nGOOGLENET Model Prediction\\n\")\n",
        "print(GOOGLENET_pred) \n",
        "print(label)"
      ],
      "metadata": {
        "id": "HZN9jU7SVLZJ"
      },
      "execution_count": null,
      "outputs": []
    }
  ]
}